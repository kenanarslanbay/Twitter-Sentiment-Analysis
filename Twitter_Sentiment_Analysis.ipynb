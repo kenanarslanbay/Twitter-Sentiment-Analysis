{
 "cells": [
  {
   "cell_type": "markdown",
   "id": "883a8ae7",
   "metadata": {},
   "source": [
    "# Libraries"
   ]
  },
  {
   "cell_type": "code",
   "execution_count": 266,
   "id": "a627b665",
   "metadata": {},
   "outputs": [
    {
     "name": "stderr",
     "output_type": "stream",
     "text": [
      "[nltk_data] Downloading package punkt to\n",
      "[nltk_data]     C:\\Users\\PC\\AppData\\Roaming\\nltk_data...\n",
      "[nltk_data]   Package punkt is already up-to-date!\n",
      "[nltk_data] Downloading package wordnet to\n",
      "[nltk_data]     C:\\Users\\PC\\AppData\\Roaming\\nltk_data...\n",
      "[nltk_data]   Package wordnet is already up-to-date!\n"
     ]
    }
   ],
   "source": [
    "import seaborn as sns\n",
    "import os\n",
    "from sklearn.metrics import accuracy_score\n",
    "import re\n",
    "import numpy as np\n",
    "import matplotlib.pyplot as plt\n",
    "import pandas as pd\n",
    "from sklearn.svm import SVC\n",
    "from sklearn.neighbors import KNeighborsClassifier\n",
    "# nltk\n",
    "import nltk\n",
    "from nltk.corpus import brown\n",
    "from nltk import FreqDist\n",
    "from nltk.stem import WordNetLemmatizer\n",
    "from wordcloud import WordCloud\n",
    "# sklearn\n",
    "from sklearn.svm import LinearSVC\n",
    "from sklearn.ensemble import RandomForestClassifier\n",
    "from sklearn.naive_bayes import BernoulliNB\n",
    "from sklearn.linear_model import LogisticRegression\n",
    "from sklearn.model_selection import train_test_split\n",
    "from sklearn.feature_extraction.text import TfidfVectorizer\n",
    "from sklearn.metrics import confusion_matrix, classification_report\n",
    "from tqdm import tqdm\n",
    "import tweepy as tw\n",
    "import twitter \n",
    "import preprocessor as p\n",
    "from snowballstemmer import TurkishStemmer\n",
    "from nltk import sent_tokenize, word_tokenize\n",
    "from nltk.stem.snowball import SnowballStemmer\n",
    "from nltk.stem.wordnet import WordNetLemmatizer\n",
    "from nltk.corpus import stopwords\n",
    "import spacy\n",
    "nltk.download('punkt')\n",
    "nltk.download('wordnet')\n",
    "nlp = spacy.load('en_core_web_lg')"
   ]
  },
  {
   "cell_type": "markdown",
   "id": "13a8fa29",
   "metadata": {},
   "source": [
    "# Twitter API Connection "
   ]
  },
  {
   "cell_type": "code",
   "execution_count": null,
   "id": "dc4249fc",
   "metadata": {},
   "outputs": [],
   "source": [
    "auth = tweepy.auth.OAuthHandler('xxxxxxx', 'xxxxxxx')\n",
    "auth.set_access_token('xxxxxx','xxxxxx')\n",
    "\n",
    "api = tweepy.API(auth)\n",
    "\n",
    "# Open/create a file to append data to\n",
    "csvFile = open('result.csv', 'a')\n",
    "\n",
    "#Use csv writer\n",
    "csvWriter = csv.writer(csvFile)\n",
    "\n",
    "for tweet in tweepy.Cursor(api.search_tweets,\n",
    "                           q = \"dolar\",\n",
    "                           since = \"2021-11-25\",\n",
    "                           until = \"2021-12-25\",\n",
    "                           lang = \"tr\").items():\n",
    "\n",
    "    # Writing to csv file\n",
    "    csvWriter.writerow([tweet.created_at, tweet.text.encode('utf-8')])\n",
    "print (tweet.created_at, tweet.text)\n",
    "csvFile.close()"
   ]
  },
  {
   "cell_type": "code",
   "execution_count": 1,
   "id": "c5dbfd9d",
   "metadata": {},
   "outputs": [],
   "source": [
    "# Cheking Tweets on Dataframe"
   ]
  },
  {
   "cell_type": "code",
   "execution_count": 22,
   "id": "97617678",
   "metadata": {},
   "outputs": [],
   "source": [
    "df=pd.read_csv('Results.csv')"
   ]
  },
  {
   "cell_type": "code",
   "execution_count": 23,
   "id": "e9206b5b",
   "metadata": {},
   "outputs": [
    {
     "data": {
      "text/html": [
       "<div>\n",
       "<style scoped>\n",
       "    .dataframe tbody tr th:only-of-type {\n",
       "        vertical-align: middle;\n",
       "    }\n",
       "\n",
       "    .dataframe tbody tr th {\n",
       "        vertical-align: top;\n",
       "    }\n",
       "\n",
       "    .dataframe thead th {\n",
       "        text-align: right;\n",
       "    }\n",
       "</style>\n",
       "<table border=\"1\" class=\"dataframe\">\n",
       "  <thead>\n",
       "    <tr style=\"text-align: right;\">\n",
       "      <th></th>\n",
       "      <th>2021-12-24 23:58:40+00:00</th>\n",
       "      <th>b'RT @kuetos1453: #EnineBoyuna\\nAsgari \\xc3\\xbccret an itibar\\xc4\\xb1 ile 425 Dollar!\\nBu da devlet taraf\\xc4\\xb1ndan verilmi\\xc5\\x9f bir gizli zam M\\xc4\\xb1!\\n\\xf0\\x9f\\xa4\\xa3\\xf0\\x9f\\xa4\\xa3\\xf0\\x9f\\xa4\\xa3\\nFaiz derken Fai\\xe2\\x80\\xa6'</th>\n",
       "    </tr>\n",
       "  </thead>\n",
       "  <tbody>\n",
       "    <tr>\n",
       "      <th>0</th>\n",
       "      <td>2021-12-24 23:49:46+00:00</td>\n",
       "      <td>b'@attack_drac 5 dollar https://t.co/MHlGaPJfzN'</td>\n",
       "    </tr>\n",
       "    <tr>\n",
       "      <th>1</th>\n",
       "      <td>2021-12-24 23:45:44+00:00</td>\n",
       "      <td>b'@MehmetP81941379 @edi_edi34 @nurettincanikli...</td>\n",
       "    </tr>\n",
       "    <tr>\n",
       "      <th>2</th>\n",
       "      <td>2021-12-24 23:38:06+00:00</td>\n",
       "      <td>b'@HaberReport Yawww biri bana s\\xc3\\xb6ylesin...</td>\n",
       "    </tr>\n",
       "  </tbody>\n",
       "</table>\n",
       "</div>"
      ],
      "text/plain": [
       "   2021-12-24 23:58:40+00:00  \\\n",
       "0  2021-12-24 23:49:46+00:00   \n",
       "1  2021-12-24 23:45:44+00:00   \n",
       "2  2021-12-24 23:38:06+00:00   \n",
       "\n",
       "  b'RT @kuetos1453: #EnineBoyuna\\nAsgari \\xc3\\xbccret an itibar\\xc4\\xb1 ile 425 Dollar!\\nBu da devlet taraf\\xc4\\xb1ndan verilmi\\xc5\\x9f bir gizli zam M\\xc4\\xb1!\\n\\xf0\\x9f\\xa4\\xa3\\xf0\\x9f\\xa4\\xa3\\xf0\\x9f\\xa4\\xa3\\nFaiz derken Fai\\xe2\\x80\\xa6'  \n",
       "0   b'@attack_drac 5 dollar https://t.co/MHlGaPJfzN'                                                                                                                                                                                              \n",
       "1  b'@MehmetP81941379 @edi_edi34 @nurettincanikli...                                                                                                                                                                                              \n",
       "2  b'@HaberReport Yawww biri bana s\\xc3\\xb6ylesin...                                                                                                                                                                                              "
      ]
     },
     "execution_count": 23,
     "metadata": {},
     "output_type": "execute_result"
    }
   ],
   "source": [
    "df.head(3)"
   ]
  },
  {
   "cell_type": "code",
   "execution_count": 24,
   "id": "5458c9f5",
   "metadata": {},
   "outputs": [],
   "source": [
    "df= df.reset_index(drop=True)"
   ]
  },
  {
   "cell_type": "code",
   "execution_count": 25,
   "id": "b20a1090",
   "metadata": {},
   "outputs": [],
   "source": [
    "df = df.set_axis(['date', 'tweets'], axis=1, inplace=False)"
   ]
  },
  {
   "cell_type": "code",
   "execution_count": 27,
   "id": "051a10ed",
   "metadata": {},
   "outputs": [
    {
     "data": {
      "text/html": [
       "<div>\n",
       "<style scoped>\n",
       "    .dataframe tbody tr th:only-of-type {\n",
       "        vertical-align: middle;\n",
       "    }\n",
       "\n",
       "    .dataframe tbody tr th {\n",
       "        vertical-align: top;\n",
       "    }\n",
       "\n",
       "    .dataframe thead th {\n",
       "        text-align: right;\n",
       "    }\n",
       "</style>\n",
       "<table border=\"1\" class=\"dataframe\">\n",
       "  <thead>\n",
       "    <tr style=\"text-align: right;\">\n",
       "      <th></th>\n",
       "      <th>date</th>\n",
       "      <th>tweets</th>\n",
       "    </tr>\n",
       "  </thead>\n",
       "  <tbody>\n",
       "    <tr>\n",
       "      <th>0</th>\n",
       "      <td>2021-12-24 23:49:46+00:00</td>\n",
       "      <td>b'@attack_drac 5 dollar https://t.co/MHlGaPJfzN'</td>\n",
       "    </tr>\n",
       "    <tr>\n",
       "      <th>1</th>\n",
       "      <td>2021-12-24 23:45:44+00:00</td>\n",
       "      <td>b'@MehmetP81941379 @edi_edi34 @nurettincanikli...</td>\n",
       "    </tr>\n",
       "    <tr>\n",
       "      <th>2</th>\n",
       "      <td>2021-12-24 23:38:06+00:00</td>\n",
       "      <td>b'@HaberReport Yawww biri bana s\\xc3\\xb6ylesin...</td>\n",
       "    </tr>\n",
       "  </tbody>\n",
       "</table>\n",
       "</div>"
      ],
      "text/plain": [
       "                        date  \\\n",
       "0  2021-12-24 23:49:46+00:00   \n",
       "1  2021-12-24 23:45:44+00:00   \n",
       "2  2021-12-24 23:38:06+00:00   \n",
       "\n",
       "                                              tweets  \n",
       "0   b'@attack_drac 5 dollar https://t.co/MHlGaPJfzN'  \n",
       "1  b'@MehmetP81941379 @edi_edi34 @nurettincanikli...  \n",
       "2  b'@HaberReport Yawww biri bana s\\xc3\\xb6ylesin...  "
      ]
     },
     "execution_count": 27,
     "metadata": {},
     "output_type": "execute_result"
    }
   ],
   "source": [
    "df.head(3)"
   ]
  },
  {
   "cell_type": "markdown",
   "id": "dc8a7519",
   "metadata": {},
   "source": [
    "# Cleaning Of Tweets"
   ]
  },
  {
   "cell_type": "code",
   "execution_count": 19,
   "id": "bccb4d0d",
   "metadata": {},
   "outputs": [],
   "source": [
    "from tqdm.notebook import tqdm\n",
    "tqdm.pandas()"
   ]
  },
  {
   "cell_type": "code",
   "execution_count": 28,
   "id": "5e892a87",
   "metadata": {},
   "outputs": [
    {
     "data": {
      "application/vnd.jupyter.widget-view+json": {
       "model_id": "ffa705a5f75a4db3a18bc279abcce988",
       "version_major": 2,
       "version_minor": 0
      },
      "text/plain": [
       "  0%|          | 0/18333 [00:00<?, ?it/s]"
      ]
     },
     "metadata": {},
     "output_type": "display_data"
    }
   ],
   "source": [
    "import spacy\n",
    "\n",
    "nlp = spacy.load('en_core_web_sm')\n",
    "\n",
    "def cleaner(string):\n",
    "    \n",
    "    # Generate list of tokens\n",
    "    doc = nlp(string)\n",
    "    lemmas = [token.lemma_ for token in doc]\n",
    "    # Remove tokens that are not alphabetic \n",
    "    a_lemmas = [lemma for lemma in lemmas if lemma.isalpha() \n",
    "                 or lemma == '-PRON-'] \n",
    "    # Print string after text cleaning\n",
    "    return ' '.join(a_lemmas)\n",
    "\n",
    "df['tweets_cleaned'] = \\\n",
    "                   df['tweets'].progress_apply(cleaner)"
   ]
  },
  {
   "cell_type": "code",
   "execution_count": 273,
   "id": "270eaf76",
   "metadata": {
    "scrolled": true
   },
   "outputs": [
    {
     "data": {
      "text/html": [
       "<div>\n",
       "<style scoped>\n",
       "    .dataframe tbody tr th:only-of-type {\n",
       "        vertical-align: middle;\n",
       "    }\n",
       "\n",
       "    .dataframe tbody tr th {\n",
       "        vertical-align: top;\n",
       "    }\n",
       "\n",
       "    .dataframe thead th {\n",
       "        text-align: right;\n",
       "    }\n",
       "</style>\n",
       "<table border=\"1\" class=\"dataframe\">\n",
       "  <thead>\n",
       "    <tr style=\"text-align: right;\">\n",
       "      <th></th>\n",
       "      <th>date</th>\n",
       "      <th>tweets</th>\n",
       "      <th>tweets_cleaned</th>\n",
       "      <th>label</th>\n",
       "      <th>score</th>\n",
       "      <th>label</th>\n",
       "      <th>score</th>\n",
       "      <th>label</th>\n",
       "      <th>score</th>\n",
       "    </tr>\n",
       "  </thead>\n",
       "  <tbody>\n",
       "    <tr>\n",
       "      <th>0</th>\n",
       "      <td>2021-12-24 23:49:46+00:00</td>\n",
       "      <td>b'@attack_drac 5 dollar https://t.co/MHlGaPJfzN'</td>\n",
       "      <td>dollar</td>\n",
       "      <td>1</td>\n",
       "      <td>0.573030</td>\n",
       "      <td>positive</td>\n",
       "      <td>0.573030</td>\n",
       "      <td>positive</td>\n",
       "      <td>0.573030</td>\n",
       "    </tr>\n",
       "    <tr>\n",
       "      <th>1</th>\n",
       "      <td>2021-12-24 23:45:44+00:00</td>\n",
       "      <td>b'@MehmetP81941379 @edi_edi34 @nurettincanikli...</td>\n",
       "      <td>var ki sen at bi ibanda</td>\n",
       "      <td>0</td>\n",
       "      <td>0.695054</td>\n",
       "      <td>negative</td>\n",
       "      <td>0.695054</td>\n",
       "      <td>negative</td>\n",
       "      <td>0.695054</td>\n",
       "    </tr>\n",
       "    <tr>\n",
       "      <th>2</th>\n",
       "      <td>2021-12-24 23:38:06+00:00</td>\n",
       "      <td>b'@HaberReport Yawww biri bana s\\xc3\\xb6ylesin...</td>\n",
       "      <td>yawww biri bana napim simdi paramla biri faiz ...</td>\n",
       "      <td>0</td>\n",
       "      <td>0.933523</td>\n",
       "      <td>negative</td>\n",
       "      <td>0.933523</td>\n",
       "      <td>negative</td>\n",
       "      <td>0.933523</td>\n",
       "    </tr>\n",
       "    <tr>\n",
       "      <th>3</th>\n",
       "      <td>2021-12-24 23:18:39+00:00</td>\n",
       "      <td>b'@BuckeFPS 1 dollar'</td>\n",
       "      <td>dollar</td>\n",
       "      <td>1</td>\n",
       "      <td>0.573030</td>\n",
       "      <td>positive</td>\n",
       "      <td>0.573030</td>\n",
       "      <td>positive</td>\n",
       "      <td>0.573030</td>\n",
       "    </tr>\n",
       "    <tr>\n",
       "      <th>4</th>\n",
       "      <td>2021-12-24 23:06:23+00:00</td>\n",
       "      <td>b'#EnineBoyuna\\nAsgari \\xc3\\xbccret an itibar\\...</td>\n",
       "      <td>an ile da devlet bir gizli zam</td>\n",
       "      <td>0</td>\n",
       "      <td>0.852814</td>\n",
       "      <td>negative</td>\n",
       "      <td>0.852814</td>\n",
       "      <td>negative</td>\n",
       "      <td>0.852814</td>\n",
       "    </tr>\n",
       "    <tr>\n",
       "      <th>5</th>\n",
       "      <td>2021-12-24 22:57:03+00:00</td>\n",
       "      <td>b'@enginozkoc Ulan senin ...gibi pensilvanya u...</td>\n",
       "      <td>ulan senin gibi pensilvanya kel kim kim hayati...</td>\n",
       "      <td>0</td>\n",
       "      <td>0.922926</td>\n",
       "      <td>negative</td>\n",
       "      <td>0.922926</td>\n",
       "      <td>negative</td>\n",
       "      <td>0.922926</td>\n",
       "    </tr>\n",
       "  </tbody>\n",
       "</table>\n",
       "</div>"
      ],
      "text/plain": [
       "                        date  \\\n",
       "0  2021-12-24 23:49:46+00:00   \n",
       "1  2021-12-24 23:45:44+00:00   \n",
       "2  2021-12-24 23:38:06+00:00   \n",
       "3  2021-12-24 23:18:39+00:00   \n",
       "4  2021-12-24 23:06:23+00:00   \n",
       "5  2021-12-24 22:57:03+00:00   \n",
       "\n",
       "                                              tweets  \\\n",
       "0   b'@attack_drac 5 dollar https://t.co/MHlGaPJfzN'   \n",
       "1  b'@MehmetP81941379 @edi_edi34 @nurettincanikli...   \n",
       "2  b'@HaberReport Yawww biri bana s\\xc3\\xb6ylesin...   \n",
       "3                              b'@BuckeFPS 1 dollar'   \n",
       "4  b'#EnineBoyuna\\nAsgari \\xc3\\xbccret an itibar\\...   \n",
       "5  b'@enginozkoc Ulan senin ...gibi pensilvanya u...   \n",
       "\n",
       "                                      tweets_cleaned label     score  \\\n",
       "0                                             dollar     1  0.573030   \n",
       "1                            var ki sen at bi ibanda     0  0.695054   \n",
       "2  yawww biri bana napim simdi paramla biri faiz ...     0  0.933523   \n",
       "3                                             dollar     1  0.573030   \n",
       "4                     an ile da devlet bir gizli zam     0  0.852814   \n",
       "5  ulan senin gibi pensilvanya kel kim kim hayati...     0  0.922926   \n",
       "\n",
       "      label     score     label     score  \n",
       "0  positive  0.573030  positive  0.573030  \n",
       "1  negative  0.695054  negative  0.695054  \n",
       "2  negative  0.933523  negative  0.933523  \n",
       "3  positive  0.573030  positive  0.573030  \n",
       "4  negative  0.852814  negative  0.852814  \n",
       "5  negative  0.922926  negative  0.922926  "
      ]
     },
     "execution_count": 273,
     "metadata": {},
     "output_type": "execute_result"
    }
   ],
   "source": [
    "df.head(6)"
   ]
  },
  {
   "cell_type": "code",
   "execution_count": 35,
   "id": "06323ddf",
   "metadata": {},
   "outputs": [],
   "source": [
    "df['tweets_cleaned']=df['tweets_cleaned'].str.lower()"
   ]
  },
  {
   "cell_type": "code",
   "execution_count": null,
   "id": "ce507943",
   "metadata": {},
   "outputs": [],
   "source": [
    "# Creating List Of Sentences"
   ]
  },
  {
   "cell_type": "code",
   "execution_count": 38,
   "id": "83ce704f",
   "metadata": {},
   "outputs": [],
   "source": [
    "list_of_sentences= [sentence for sentence in df.tweets_cleaned]\n",
    "\n",
    "lines= []\n",
    "for sentence in list_of_sentences:\n",
    "    words=sentence.split()\n",
    "    for w in words:\n",
    "        lines.append(w)"
   ]
  },
  {
   "cell_type": "code",
   "execution_count": 43,
   "id": "bb435329",
   "metadata": {},
   "outputs": [],
   "source": [
    "lines2 = []\n",
    "\n",
    "for word in lines:\n",
    "    if word != '':\n",
    "        lines2.append(word)"
   ]
  },
  {
   "cell_type": "code",
   "execution_count": 44,
   "id": "2e5d4ed4",
   "metadata": {},
   "outputs": [
    {
     "data": {
      "text/plain": [
       "['dollar', 'var', 'ki', 'sen', 'at']"
      ]
     },
     "execution_count": 44,
     "metadata": {},
     "output_type": "execute_result"
    }
   ],
   "source": [
    "lines2[0:5]"
   ]
  },
  {
   "cell_type": "markdown",
   "id": "edb4b6cc",
   "metadata": {},
   "source": [
    "\n",
    "# Stemming"
   ]
  },
  {
   "cell_type": "code",
   "execution_count": 47,
   "id": "bb81ae01",
   "metadata": {},
   "outputs": [
    {
     "data": {
      "text/plain": [
       "'akraba'"
      ]
     },
     "execution_count": 47,
     "metadata": {},
     "output_type": "execute_result"
    }
   ],
   "source": [
    "from TurkishStemmer import TurkishStemmer\n",
    "stemmer = TurkishStemmer()\n",
    "stemmer.stem(\"akrabalarındakilerden\")\n"
   ]
  },
  {
   "cell_type": "code",
   "execution_count": 51,
   "id": "311f58fc",
   "metadata": {},
   "outputs": [],
   "source": [
    "stem= []\n",
    "\n",
    "for word in lines2:\n",
    "    stem.append(stemmer.stem(word))"
   ]
  },
  {
   "cell_type": "markdown",
   "id": "a2543e9e",
   "metadata": {},
   "source": [
    "# Stopwords"
   ]
  },
  {
   "cell_type": "code",
   "execution_count": 53,
   "id": "d278783e",
   "metadata": {},
   "outputs": [],
   "source": [
    "def get_stopwords_list(stop_file_path):\n",
    "    \"\"\"load stop words \"\"\"\n",
    "    \n",
    "    with open(stop_file_path, 'r', encoding=\"utf-8\") as f:\n",
    "        stopwords = f.readlines()\n",
    "        stop_set = set(m.strip() for m in stopwords)\n",
    "        return list(frozenset(stop_set))"
   ]
  },
  {
   "cell_type": "code",
   "execution_count": 75,
   "id": "719307fb",
   "metadata": {},
   "outputs": [],
   "source": [
    "stopwords_path = \"turkish.txt\"\n",
    "stopwords = get_stopwords_list(stopwords_path)"
   ]
  },
  {
   "cell_type": "code",
   "execution_count": 76,
   "id": "95b28c05",
   "metadata": {},
   "outputs": [
    {
     "data": {
      "text/plain": [
       "['illa',\n",
       " 'nedenlerden',\n",
       " 'que',\n",
       " 'oysaki',\n",
       " 'nazaran',\n",
       " 'birisinde',\n",
       " 'kimisine',\n",
       " 'Nasıl',\n",
       " 'itibaren',\n",
       " 'nerede',\n",
       " 'dolayı',\n",
       " 'kim',\n",
       " 'ama',\n",
       " 'netekim',\n",
       " 'hepsini']"
      ]
     },
     "execution_count": 76,
     "metadata": {},
     "output_type": "execute_result"
    }
   ],
   "source": [
    "stopwords[0:15]"
   ]
  },
  {
   "cell_type": "code",
   "execution_count": 77,
   "id": "d2960104",
   "metadata": {},
   "outputs": [],
   "source": [
    "stem2= []\n",
    "\n",
    "for word in stem:\n",
    "    if word not in stopwords:\n",
    "        stem2.append(word)"
   ]
  },
  {
   "cell_type": "code",
   "execution_count": 78,
   "id": "25f35711",
   "metadata": {},
   "outputs": [
    {
     "data": {
      "text/plain": [
       "['dol',\n",
       " 'at',\n",
       " 'bi',\n",
       " 'iban',\n",
       " 'yawww',\n",
       " 'ban',\n",
       " 'napim',\n",
       " 'simt',\n",
       " 'para',\n",
       " 'faiz',\n",
       " 'hara',\n",
       " 'allah',\n",
       " 'yakar',\n",
       " 'dol',\n",
       " 'devlet']"
      ]
     },
     "execution_count": 78,
     "metadata": {},
     "output_type": "execute_result"
    }
   ],
   "source": [
    "stem2[0:15]"
   ]
  },
  {
   "cell_type": "code",
   "execution_count": 175,
   "id": "363c202a",
   "metadata": {},
   "outputs": [],
   "source": [
    "df2= pd.DataFrame(stem2)\n",
    "\n",
    "df2=df2[0].value_counts()"
   ]
  },
  {
   "cell_type": "code",
   "execution_count": 184,
   "id": "d17e9b69",
   "metadata": {},
   "outputs": [],
   "source": [
    "df2.columns=['words','frequency']"
   ]
  },
  {
   "cell_type": "code",
   "execution_count": 182,
   "id": "3cbc7ab1",
   "metadata": {},
   "outputs": [],
   "source": [
    "df2 = df2.reset_index(drop=True)"
   ]
  },
  {
   "cell_type": "code",
   "execution_count": 185,
   "id": "cad3eef5",
   "metadata": {},
   "outputs": [
    {
     "data": {
      "text/html": [
       "<div>\n",
       "<style scoped>\n",
       "    .dataframe tbody tr th:only-of-type {\n",
       "        vertical-align: middle;\n",
       "    }\n",
       "\n",
       "    .dataframe tbody tr th {\n",
       "        vertical-align: top;\n",
       "    }\n",
       "\n",
       "    .dataframe thead th {\n",
       "        text-align: right;\n",
       "    }\n",
       "</style>\n",
       "<table border=\"1\" class=\"dataframe\">\n",
       "  <thead>\n",
       "    <tr style=\"text-align: right;\">\n",
       "      <th></th>\n",
       "      <th>words</th>\n",
       "      <th>frequency</th>\n",
       "    </tr>\n",
       "  </thead>\n",
       "  <tbody>\n",
       "    <tr>\n",
       "      <th>0</th>\n",
       "      <td>kur</td>\n",
       "      <td>2429</td>\n",
       "    </tr>\n",
       "    <tr>\n",
       "      <th>1</th>\n",
       "      <td>endeks</td>\n",
       "      <td>1760</td>\n",
       "    </tr>\n",
       "    <tr>\n",
       "      <th>2</th>\n",
       "      <td>tl</td>\n",
       "      <td>1660</td>\n",
       "    </tr>\n",
       "  </tbody>\n",
       "</table>\n",
       "</div>"
      ],
      "text/plain": [
       "    words  frequency\n",
       "0     kur       2429\n",
       "1  endeks       1760\n",
       "2      tl       1660"
      ]
     },
     "execution_count": 185,
     "metadata": {},
     "output_type": "execute_result"
    }
   ],
   "source": [
    "df2.head(3)"
   ]
  },
  {
   "cell_type": "markdown",
   "id": "0796956e",
   "metadata": {},
   "source": [
    "# Top words overall"
   ]
  },
  {
   "cell_type": "code",
   "execution_count": 81,
   "id": "daf5efef",
   "metadata": {},
   "outputs": [
    {
     "name": "stderr",
     "output_type": "stream",
     "text": [
      "C:\\Users\\PC\\anaconda3\\lib\\site-packages\\seaborn\\_decorators.py:36: FutureWarning: Pass the following variables as keyword args: x, y. From version 0.12, the only valid positional argument will be `data`, and passing other arguments without an explicit keyword will result in an error or misinterpretation.\n",
      "  warnings.warn(\n"
     ]
    },
    {
     "data": {
      "image/png": "[encoded data removed]",
      "text/plain": [
       "<Figure size 720x360 with 1 Axes>"
      ]
     },
     "metadata": {
      "needs_background": "light"
     },
     "output_type": "display_data"
    }
   ],
   "source": [
    "df2=df2[0:20]\n",
    "plt.figure(figsize=(10,5))\n",
    "sns.barplot(df2.values,df2.index,alpha=1)\n",
    "plt.title('Top Words Overall')\n",
    "plt.ylabel('Word from tweet',fontsize=12)\n",
    "plt.xlabel('Count of Words',fontsize=12)\n",
    "plt.show()"
   ]
  },
  {
   "cell_type": "markdown",
   "id": "8cb3a977",
   "metadata": {},
   "source": [
    "\n",
    "# Word Cloud"
   ]
  },
  {
   "cell_type": "code",
   "execution_count": 186,
   "id": "80d50886",
   "metadata": {},
   "outputs": [
    {
     "data": {
      "image/png": "[encoded data removed]",
      "text/plain": [
       "<Figure size 864x720 with 1 Axes>"
      ]
     },
     "metadata": {
      "needs_background": "light"
     },
     "output_type": "display_data"
    }
   ],
   "source": [
    "#Frequency of words\n",
    "fdist = FreqDist(df2['words'])\n",
    "#WordCloud\n",
    "wc = WordCloud(width=800, height=400, max_words=50).generate_from_frequencies(fdist)\n",
    "plt.figure(figsize=(12,10))\n",
    "plt.imshow(wc, interpolation=\"bilinear\")\n",
    "plt.axis(\"off\")\n",
    "plt.show()"
   ]
  },
  {
   "cell_type": "markdown",
   "id": "b090d23f",
   "metadata": {},
   "source": [
    "# Using Bert Model For Classification"
   ]
  },
  {
   "cell_type": "code",
   "execution_count": 188,
   "id": "83b0ed20",
   "metadata": {},
   "outputs": [],
   "source": [
    "#Importing Bert Model\n",
    "from transformers import AutoModelForSequenceClassification, AutoTokenizer, pipeline"
   ]
  },
  {
   "cell_type": "code",
   "execution_count": 189,
   "id": "016fc493",
   "metadata": {},
   "outputs": [],
   "source": [
    "# Uploading Trained Bert Model\n",
    "model = AutoModelForSequenceClassification.from_pretrained(\"savasy/bert-base-turkish-sentiment-cased\")\n",
    "tokenizer = AutoTokenizer.from_pretrained(\"savasy/bert-base-turkish-sentiment-cased\")\n",
    "\n",
    "sentiment_analysis_pipeline= pipeline(\"sentiment-analysis\", tokenizer=tokenizer, model=model)"
   ]
  },
  {
   "cell_type": "code",
   "execution_count": 193,
   "id": "7b97fc6b",
   "metadata": {},
   "outputs": [
    {
     "data": {
      "text/plain": [
       "[{'label': 'negative', 'score': 0.9465715289115906}]"
      ]
     },
     "execution_count": 193,
     "metadata": {},
     "output_type": "execute_result"
    }
   ],
   "source": [
    "#Chechking\n",
    "sentiment_analysis_pipeline(\"tl karşısında dolar kuru çok sert bir şekilde yükselişe geçti \")"
   ]
  },
  {
   "cell_type": "code",
   "execution_count": null,
   "id": "53bc37db",
   "metadata": {},
   "outputs": [],
   "source": [
    "# Applying For All Tweets"
   ]
  },
  {
   "cell_type": "code",
   "execution_count": 195,
   "id": "0c8318e9",
   "metadata": {},
   "outputs": [
    {
     "name": "stderr",
     "output_type": "stream",
     "text": [
      "100%|██████████| 18333/18333 [08:27<00:00, 36.13it/s]\n"
     ]
    }
   ],
   "source": [
    "sentiment_result=[]\n",
    "for text in tqdm(df.tweets_cleaned):\n",
    "    result = sentiment_analysis_pipeline(text)[0]\n",
    "    sentiment_result.append(result)"
   ]
  },
  {
   "cell_type": "code",
   "execution_count": 198,
   "id": "946a4a59",
   "metadata": {},
   "outputs": [
    {
     "data": {
      "text/html": [
       "<div>\n",
       "<style scoped>\n",
       "    .dataframe tbody tr th:only-of-type {\n",
       "        vertical-align: middle;\n",
       "    }\n",
       "\n",
       "    .dataframe tbody tr th {\n",
       "        vertical-align: top;\n",
       "    }\n",
       "\n",
       "    .dataframe thead th {\n",
       "        text-align: right;\n",
       "    }\n",
       "</style>\n",
       "<table border=\"1\" class=\"dataframe\">\n",
       "  <thead>\n",
       "    <tr style=\"text-align: right;\">\n",
       "      <th></th>\n",
       "      <th>label</th>\n",
       "      <th>score</th>\n",
       "    </tr>\n",
       "  </thead>\n",
       "  <tbody>\n",
       "    <tr>\n",
       "      <th>0</th>\n",
       "      <td>positive</td>\n",
       "      <td>0.573030</td>\n",
       "    </tr>\n",
       "    <tr>\n",
       "      <th>1</th>\n",
       "      <td>negative</td>\n",
       "      <td>0.695054</td>\n",
       "    </tr>\n",
       "    <tr>\n",
       "      <th>2</th>\n",
       "      <td>negative</td>\n",
       "      <td>0.933523</td>\n",
       "    </tr>\n",
       "    <tr>\n",
       "      <th>3</th>\n",
       "      <td>positive</td>\n",
       "      <td>0.573030</td>\n",
       "    </tr>\n",
       "    <tr>\n",
       "      <th>4</th>\n",
       "      <td>negative</td>\n",
       "      <td>0.852814</td>\n",
       "    </tr>\n",
       "    <tr>\n",
       "      <th>5</th>\n",
       "      <td>negative</td>\n",
       "      <td>0.922926</td>\n",
       "    </tr>\n",
       "    <tr>\n",
       "      <th>6</th>\n",
       "      <td>negative</td>\n",
       "      <td>0.802084</td>\n",
       "    </tr>\n",
       "    <tr>\n",
       "      <th>7</th>\n",
       "      <td>positive</td>\n",
       "      <td>0.968256</td>\n",
       "    </tr>\n",
       "  </tbody>\n",
       "</table>\n",
       "</div>"
      ],
      "text/plain": [
       "      label     score\n",
       "0  positive  0.573030\n",
       "1  negative  0.695054\n",
       "2  negative  0.933523\n",
       "3  positive  0.573030\n",
       "4  negative  0.852814\n",
       "5  negative  0.922926\n",
       "6  negative  0.802084\n",
       "7  positive  0.968256"
      ]
     },
     "execution_count": 198,
     "metadata": {},
     "output_type": "execute_result"
    }
   ],
   "source": [
    "sentiment_result = pd.DataFrame(sentiment_result)\n",
    "sentiment_result.head(8)"
   ]
  },
  {
   "cell_type": "code",
   "execution_count": 241,
   "id": "48383e15",
   "metadata": {
    "collapsed": true
   },
   "outputs": [
    {
     "ename": "AttributeError",
     "evalue": "'DataFrame' object has no attribute 'map'",
     "output_type": "error",
     "traceback": [
      "\u001b[1;31m---------------------------------------------------------------------------\u001b[0m",
      "\u001b[1;31mAttributeError\u001b[0m                            Traceback (most recent call last)",
      "\u001b[1;32m~\\AppData\\Local\\Temp/ipykernel_27316/1397523455.py\u001b[0m in \u001b[0;36m<module>\u001b[1;34m\u001b[0m\n\u001b[0;32m      1\u001b[0m \u001b[0msentiment_result\u001b[0m \u001b[1;33m=\u001b[0m \u001b[0mpd\u001b[0m\u001b[1;33m.\u001b[0m\u001b[0mDataFrame\u001b[0m\u001b[1;33m(\u001b[0m\u001b[0msentiment_result\u001b[0m\u001b[1;33m)\u001b[0m\u001b[1;33m\u001b[0m\u001b[1;33m\u001b[0m\u001b[0m\n\u001b[0;32m      2\u001b[0m \u001b[0mdf\u001b[0m \u001b[1;33m=\u001b[0m \u001b[0mpd\u001b[0m\u001b[1;33m.\u001b[0m\u001b[0mconcat\u001b[0m\u001b[1;33m(\u001b[0m\u001b[1;33m[\u001b[0m\u001b[0mdf\u001b[0m\u001b[1;33m,\u001b[0m \u001b[0msentiment_result\u001b[0m\u001b[1;33m]\u001b[0m\u001b[1;33m,\u001b[0m\u001b[0maxis\u001b[0m\u001b[1;33m=\u001b[0m\u001b[1;36m1\u001b[0m\u001b[1;33m)\u001b[0m\u001b[1;33m\u001b[0m\u001b[1;33m\u001b[0m\u001b[0m\n\u001b[1;32m----> 3\u001b[1;33m \u001b[0mdf\u001b[0m\u001b[1;33m.\u001b[0m\u001b[0mlabel\u001b[0m \u001b[1;33m=\u001b[0m \u001b[0mdf\u001b[0m\u001b[1;33m.\u001b[0m\u001b[0mlabel\u001b[0m\u001b[1;33m.\u001b[0m\u001b[0mmap\u001b[0m\u001b[1;33m(\u001b[0m\u001b[1;33m{\u001b[0m\u001b[1;34m'positive'\u001b[0m\u001b[1;33m:\u001b[0m\u001b[1;36m1\u001b[0m\u001b[1;33m,\u001b[0m\u001b[1;34m'negative'\u001b[0m\u001b[1;33m:\u001b[0m\u001b[1;36m0\u001b[0m\u001b[1;33m}\u001b[0m\u001b[1;33m)\u001b[0m\u001b[1;33m\u001b[0m\u001b[1;33m\u001b[0m\u001b[0m\n\u001b[0m\u001b[0;32m      4\u001b[0m \u001b[0mdf\u001b[0m\u001b[1;33m.\u001b[0m\u001b[0mtail\u001b[0m\u001b[1;33m(\u001b[0m\u001b[1;36m5\u001b[0m\u001b[1;33m)\u001b[0m\u001b[1;33m\u001b[0m\u001b[1;33m\u001b[0m\u001b[0m\n",
      "\u001b[1;32m~\\anaconda3\\lib\\site-packages\\pandas\\core\\generic.py\u001b[0m in \u001b[0;36m__getattr__\u001b[1;34m(self, name)\u001b[0m\n\u001b[0;32m   5485\u001b[0m         ):\n\u001b[0;32m   5486\u001b[0m             \u001b[1;32mreturn\u001b[0m \u001b[0mself\u001b[0m\u001b[1;33m[\u001b[0m\u001b[0mname\u001b[0m\u001b[1;33m]\u001b[0m\u001b[1;33m\u001b[0m\u001b[1;33m\u001b[0m\u001b[0m\n\u001b[1;32m-> 5487\u001b[1;33m         \u001b[1;32mreturn\u001b[0m \u001b[0mobject\u001b[0m\u001b[1;33m.\u001b[0m\u001b[0m__getattribute__\u001b[0m\u001b[1;33m(\u001b[0m\u001b[0mself\u001b[0m\u001b[1;33m,\u001b[0m \u001b[0mname\u001b[0m\u001b[1;33m)\u001b[0m\u001b[1;33m\u001b[0m\u001b[1;33m\u001b[0m\u001b[0m\n\u001b[0m\u001b[0;32m   5488\u001b[0m \u001b[1;33m\u001b[0m\u001b[0m\n\u001b[0;32m   5489\u001b[0m     \u001b[1;32mdef\u001b[0m \u001b[0m__setattr__\u001b[0m\u001b[1;33m(\u001b[0m\u001b[0mself\u001b[0m\u001b[1;33m,\u001b[0m \u001b[0mname\u001b[0m\u001b[1;33m:\u001b[0m \u001b[0mstr\u001b[0m\u001b[1;33m,\u001b[0m \u001b[0mvalue\u001b[0m\u001b[1;33m)\u001b[0m \u001b[1;33m->\u001b[0m \u001b[1;32mNone\u001b[0m\u001b[1;33m:\u001b[0m\u001b[1;33m\u001b[0m\u001b[1;33m\u001b[0m\u001b[0m\n",
      "\u001b[1;31mAttributeError\u001b[0m: 'DataFrame' object has no attribute 'map'"
     ]
    }
   ],
   "source": [
    "sentiment_result = pd.DataFrame(sentiment_result)\n",
    "df = pd.concat([df, sentiment_result],axis=1)\n",
    "df.label = df.label.map({'positive':1,'negative':0})"
   ]
  },
  {
   "cell_type": "code",
   "execution_count": null,
   "id": "0c47c6e7",
   "metadata": {},
   "outputs": [],
   "source": [
    "# Chechking Distribution Of Label"
   ]
  },
  {
   "cell_type": "code",
   "execution_count": 232,
   "id": "82889e3c",
   "metadata": {},
   "outputs": [],
   "source": [
    "df_tweets=df.filter(['tweets_cleaned','label'])"
   ]
  },
  {
   "cell_type": "code",
   "execution_count": 233,
   "id": "589d808e",
   "metadata": {},
   "outputs": [
    {
     "data": {
      "image/png": "[encoded data removed]",
      "text/plain": [
       "<Figure size 432x288 with 1 Axes>"
      ]
     },
     "metadata": {},
     "output_type": "display_data"
    }
   ],
   "source": [
    "labels = df_tweets.label.map({1:'Olumlu',0:'Olumsuz'}).value_counts().index.values\n",
    "sizes = df_tweets.label.value_counts().values\n",
    "\n",
    "fig1, ax1 = plt.subplots()\n",
    "ax1.pie(sizes, labels=labels, autopct='%1.1f%%',\n",
    "        shadow=True, startangle=90)\n",
    "ax1.axis('equal')\n",
    "plt.show()"
   ]
  },
  {
   "cell_type": "code",
   "execution_count": 250,
   "id": "e8a8c1a8",
   "metadata": {},
   "outputs": [],
   "source": [
    "label_set=df_tweets['label']"
   ]
  },
  {
   "cell_type": "code",
   "execution_count": 244,
   "id": "84d797a1",
   "metadata": {},
   "outputs": [],
   "source": [
    "stopwords_path = \"turkish.txt\"\n",
    "stopwords = get_stopwords_list(stopwords_path)"
   ]
  },
  {
   "cell_type": "markdown",
   "id": "88f51757",
   "metadata": {},
   "source": [
    "# Creating Model"
   ]
  },
  {
   "cell_type": "code",
   "execution_count": 245,
   "id": "993c8a27",
   "metadata": {},
   "outputs": [
    {
     "name": "stderr",
     "output_type": "stream",
     "text": [
      "C:\\Users\\PC\\AppData\\Roaming\\Python\\Python39\\site-packages\\sklearn\\feature_extraction\\text.py:396: UserWarning: Your stop_words may be inconsistent with your preprocessing. Tokenizing the stop words generated tokens ['arkadaini', 'borcun', 'btt', 'bugn', 'class', 'et', 'ho', 'ke', 'lan', 'linkten', 'mb', 'nasi', 'nasisoyu1', 'nasisoyul', 'nasisoyuı', 'nasissoyulduk', 'naslsoyul', 'nasılsoyul', 'olabilirsiniz', 'shib', 'ship', 'zaman'] not in stop_words.\n",
      "  warnings.warn(\n"
     ]
    }
   ],
   "source": [
    "# Changing the text to a numerical form: All machine learning and statistical models use mathematics and numbers to compute data. Since the input here is textual, we will use the TF-IDF scheme to process words.\n",
    "# Import the necessary packages\n",
    "from sklearn.feature_extraction.text import TfidfVectorizer\n",
    "input_vector = TfidfVectorizer (max_features=20000, min_df=6, max_df=0.8, stop_words=get_stopwords_list(stopwords_path))\n",
    "cleaned_feature_set = input_vector.fit_transform(df_tweets.tweets_cleaned).toarray()"
   ]
  },
  {
   "cell_type": "code",
   "execution_count": 251,
   "id": "3737638a",
   "metadata": {},
   "outputs": [],
   "source": [
    "# Let us now use the Train, Test, Split function to divide this data into training and testing sets. We will use the training set to train the model and find the best suitable model for this prediction and then run that model on the test data to finalize the prediction score\n",
    "from sklearn.model_selection import train_test_split\n",
    "X_train, X_test, y_train, y_test = train_test_split(cleaned_feature_set, label_set, test_size=0.33, random_state=42)"
   ]
  },
  {
   "cell_type": "code",
   "execution_count": 261,
   "id": "c20b653e",
   "metadata": {},
   "outputs": [],
   "source": [
    "# Random Forest Classification\n",
    "rf_classifier = RandomForestClassifier(n_estimators=200, random_state=42)\n",
    "rf_classifier.fit(X_train, y_train)\n",
    "rf_classifier_score = rf_classifier.score(X_train, y_train)\n",
    "# Support Vector Machine Linear Classification\n",
    "svc_classifier = SVC(kernel='linear')\n",
    "svc_classifier.fit(X_train, y_train)\n",
    "svc_classifier_score = svc_classifier.score(X_train, y_train)\n",
    "# Logistic Regression\n",
    "lr_classifier = LogisticRegression(random_state=0, solver='lbfgs', multi_class='ovr').fit(X_train, y_train)\n",
    "lr_classifier_score = lr_classifier.score(X_train, y_train)\n",
    "# K-Nearest Neighbors Classification\n",
    "knn_classifier = KNeighborsClassifier(n_neighbors=5)\n",
    "knn_classifier.fit(X_train, y_train)\n",
    "knn_classifier_score = knn_classifier.score(X_train, y_train)"
   ]
  },
  {
   "cell_type": "code",
   "execution_count": 268,
   "id": "937430ad",
   "metadata": {},
   "outputs": [
    {
     "data": {
      "text/html": [
       "<div>\n",
       "<style scoped>\n",
       "    .dataframe tbody tr th:only-of-type {\n",
       "        vertical-align: middle;\n",
       "    }\n",
       "\n",
       "    .dataframe tbody tr th {\n",
       "        vertical-align: top;\n",
       "    }\n",
       "\n",
       "    .dataframe thead th {\n",
       "        text-align: right;\n",
       "    }\n",
       "</style>\n",
       "<table border=\"1\" class=\"dataframe\">\n",
       "  <thead>\n",
       "    <tr style=\"text-align: right;\">\n",
       "      <th></th>\n",
       "      <th>Classifiers</th>\n",
       "      <th>Accuracy on Training Data</th>\n",
       "    </tr>\n",
       "  </thead>\n",
       "  <tbody>\n",
       "    <tr>\n",
       "      <th>0</th>\n",
       "      <td>Random Forest Classification</td>\n",
       "      <td>0.974518</td>\n",
       "    </tr>\n",
       "    <tr>\n",
       "      <th>1</th>\n",
       "      <td>Support Vector Machine Classification</td>\n",
       "      <td>0.936498</td>\n",
       "    </tr>\n",
       "    <tr>\n",
       "      <th>2</th>\n",
       "      <td>Logistic Regression</td>\n",
       "      <td>0.927135</td>\n",
       "    </tr>\n",
       "    <tr>\n",
       "      <th>3</th>\n",
       "      <td>KNN Classification</td>\n",
       "      <td>0.936905</td>\n",
       "    </tr>\n",
       "  </tbody>\n",
       "</table>\n",
       "</div>"
      ],
      "text/plain": [
       "                             Classifiers  Accuracy on Training Data\n",
       "0           Random Forest Classification                   0.974518\n",
       "1  Support Vector Machine Classification                   0.936498\n",
       "2                    Logistic Regression                   0.927135\n",
       "3                     KNN Classification                   0.936905"
      ]
     },
     "execution_count": 268,
     "metadata": {},
     "output_type": "execute_result"
    }
   ],
   "source": [
    "# Comparision of individual accuracy scores\n",
    "accuracy_scores = []\n",
    "Used_ML_Models = ['Random Forest Classification','Support Vector Machine Classification','Logistic Regression',\n",
    "                   'KNN Classification']\n",
    "accuracy_scores.append(rf_classifier_score)\n",
    "accuracy_scores.append(svc_classifier_score)\n",
    "accuracy_scores.append(lr_classifier_score)\n",
    "accuracy_scores.append(knn_classifier_score)\n",
    "score_comparisons = pd.DataFrame(Used_ML_Models, columns = ['Classifiers'])\n",
    "score_comparisons['Accuracy on Training Data'] = accuracy_scores\n",
    "score_comparisons"
   ]
  },
  {
   "cell_type": "code",
   "execution_count": 267,
   "id": "e2982dfb",
   "metadata": {},
   "outputs": [
    {
     "name": "stdout",
     "output_type": "stream",
     "text": [
      "0.9257851239669421\n"
     ]
    }
   ],
   "source": [
    "# Final prediction using the best-case algorithm from the above table\n",
    "final_pred = rf_classifier.predict(X_test)\n",
    "# Accuracy score of the final prediction\n",
    "print(accuracy_score(y_test, final_pred))"
   ]
  },
  {
   "cell_type": "code",
   "execution_count": null,
   "id": "4d7085c5",
   "metadata": {},
   "outputs": [],
   "source": []
  }
 ],
 "metadata": {
  "kernelspec": {
   "display_name": "Python 3 (ipykernel)",
   "language": "python",
   "name": "python3"
  },
  "language_info": {
   "codemirror_mode": {
    "name": "ipython",
    "version": 3
   },
   "file_extension": ".py",
   "mimetype": "text/x-python",
   "name": "python",
   "nbconvert_exporter": "python",
   "pygments_lexer": "ipython3",
   "version": "3.9.7"
  }
 },
 "nbformat": 4,
 "nbformat_minor": 5
}
